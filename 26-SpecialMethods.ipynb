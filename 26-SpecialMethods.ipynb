{
 "cells": [
  {
   "cell_type": "code",
   "execution_count": 16,
   "id": "e76b40c1",
   "metadata": {},
   "outputs": [],
   "source": [
    "class Fruits():\n",
    "    def __init__(self,name,calories):\n",
    "        self.name = name\n",
    "        self.calories = calories\n",
    "    def __str__(self):\n",
    "        return f\"{self.name} has {self.calories}\"\n",
    "    def __len__(self):\n",
    "        return self.calories"
   ]
  },
  {
   "cell_type": "code",
   "execution_count": 17,
   "id": "83ec9dc4",
   "metadata": {},
   "outputs": [],
   "source": [
    "my_fruit = Fruits (\"Banana\", 300)"
   ]
  },
  {
   "cell_type": "code",
   "execution_count": 18,
   "id": "fadde2dc",
   "metadata": {},
   "outputs": [
    {
     "name": "stdout",
     "output_type": "stream",
     "text": [
      "Banana has 300\n"
     ]
    }
   ],
   "source": [
    "print(my_fruit)"
   ]
  },
  {
   "cell_type": "code",
   "execution_count": 20,
   "id": "3eb44d96",
   "metadata": {},
   "outputs": [
    {
     "data": {
      "text/plain": [
       "300"
      ]
     },
     "execution_count": 20,
     "metadata": {},
     "output_type": "execute_result"
    }
   ],
   "source": [
    "len (my_fruit)"
   ]
  },
  {
   "cell_type": "code",
   "execution_count": null,
   "id": "f84195e2",
   "metadata": {},
   "outputs": [],
   "source": []
  }
 ],
 "metadata": {
  "kernelspec": {
   "display_name": "Python 3",
   "language": "python",
   "name": "python3"
  },
  "language_info": {
   "codemirror_mode": {
    "name": "ipython",
    "version": 3
   },
   "file_extension": ".py",
   "mimetype": "text/x-python",
   "name": "python",
   "nbconvert_exporter": "python",
   "pygments_lexer": "ipython3",
   "version": "3.8.8"
  }
 },
 "nbformat": 4,
 "nbformat_minor": 5
}
