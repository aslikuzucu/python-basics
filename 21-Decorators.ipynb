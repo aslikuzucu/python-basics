{
 "cells": [
  {
   "cell_type": "code",
   "execution_count": 1,
   "id": "56053969",
   "metadata": {},
   "outputs": [],
   "source": [
    "def func(new_func):\n",
    "    print(\"func started\")\n",
    "    new_func()\n",
    "    print(\"func ended\")"
   ]
  },
  {
   "cell_type": "code",
   "execution_count": 2,
   "id": "0246df57",
   "metadata": {},
   "outputs": [],
   "source": [
    "def hello_func():\n",
    "    print(\"hello world\")"
   ]
  },
  {
   "cell_type": "code",
   "execution_count": 3,
   "id": "6e87b5f8",
   "metadata": {},
   "outputs": [
    {
     "name": "stdout",
     "output_type": "stream",
     "text": [
      "func started\n",
      "hello world\n",
      "func ended\n"
     ]
    }
   ],
   "source": [
    "func(hello_func)"
   ]
  },
  {
   "cell_type": "code",
   "execution_count": 10,
   "id": "f9e92b97",
   "metadata": {},
   "outputs": [],
   "source": [
    "def new_func():\n",
    "    print(\"new func\")\n",
    "    def new_func_2():\n",
    "        print(\"new func 2\")\n",
    "    return new_func_2"
   ]
  },
  {
   "cell_type": "code",
   "execution_count": 11,
   "id": "b0ab5c4d",
   "metadata": {},
   "outputs": [
    {
     "name": "stdout",
     "output_type": "stream",
     "text": [
      "new func\n"
     ]
    },
    {
     "data": {
      "text/plain": [
       "<function __main__.new_func.<locals>.new_func_2()>"
      ]
     },
     "execution_count": 11,
     "metadata": {},
     "output_type": "execute_result"
    }
   ],
   "source": [
    "new_func()"
   ]
  },
  {
   "cell_type": "code",
   "execution_count": 12,
   "id": "9a36a76c",
   "metadata": {},
   "outputs": [
    {
     "name": "stdout",
     "output_type": "stream",
     "text": [
      "new func\n"
     ]
    }
   ],
   "source": [
    "new_string = new_func()"
   ]
  },
  {
   "cell_type": "code",
   "execution_count": 13,
   "id": "0e5534b8",
   "metadata": {},
   "outputs": [
    {
     "name": "stdout",
     "output_type": "stream",
     "text": [
      "new func 2\n"
     ]
    }
   ],
   "source": [
    "new_string()"
   ]
  },
  {
   "cell_type": "code",
   "execution_count": 14,
   "id": "cf961dd2",
   "metadata": {},
   "outputs": [],
   "source": [
    "def decorator_func(func):\n",
    "    def wrapper_func():\n",
    "        print (\"wrapper started\")\n",
    "        \n",
    "        func()\n",
    "        print(\"wrapper stoped\")\n",
    "    return wrapper_func "
   ]
  },
  {
   "cell_type": "code",
   "execution_count": 16,
   "id": "fa058b63",
   "metadata": {},
   "outputs": [],
   "source": [
    "def func_new():\n",
    "    print(\"hello world\")"
   ]
  },
  {
   "cell_type": "code",
   "execution_count": 17,
   "id": "89d501d7",
   "metadata": {},
   "outputs": [],
   "source": [
    "exmp_func = decorator_func(func_new)"
   ]
  },
  {
   "cell_type": "code",
   "execution_count": 18,
   "id": "9025d37e",
   "metadata": {},
   "outputs": [
    {
     "name": "stdout",
     "output_type": "stream",
     "text": [
      "wrapper started\n",
      "hello world\n",
      "wrapper stoped\n"
     ]
    }
   ],
   "source": [
    "exmp_func()"
   ]
  },
  {
   "cell_type": "code",
   "execution_count": 19,
   "id": "adefca53",
   "metadata": {},
   "outputs": [],
   "source": [
    "@decorator_func\n",
    "def func_new():\n",
    "    print(\"hello world\")"
   ]
  },
  {
   "cell_type": "code",
   "execution_count": 21,
   "id": "17a3b5e8",
   "metadata": {},
   "outputs": [
    {
     "name": "stdout",
     "output_type": "stream",
     "text": [
      "wrapper started\n",
      "hello world\n",
      "wrapper stoped\n"
     ]
    }
   ],
   "source": [
    "func_new()"
   ]
  },
  {
   "cell_type": "code",
   "execution_count": null,
   "id": "f17aa258",
   "metadata": {},
   "outputs": [],
   "source": []
  }
 ],
 "metadata": {
  "kernelspec": {
   "display_name": "Python 3",
   "language": "python",
   "name": "python3"
  },
  "language_info": {
   "codemirror_mode": {
    "name": "ipython",
    "version": 3
   },
   "file_extension": ".py",
   "mimetype": "text/x-python",
   "name": "python",
   "nbconvert_exporter": "python",
   "pygments_lexer": "ipython3",
   "version": "3.8.8"
  }
 },
 "nbformat": 4,
 "nbformat_minor": 5
}
