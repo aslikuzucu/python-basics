{
 "cells": [
  {
   "cell_type": "code",
   "execution_count": 3,
   "id": "c3447175",
   "metadata": {},
   "outputs": [
    {
     "name": "stdout",
     "output_type": "stream",
     "text": [
      "xxx\n"
     ]
    }
   ],
   "source": [
    "if 3>2:\n",
    "    print(\"xxx\")"
   ]
  },
  {
   "cell_type": "code",
   "execution_count": 4,
   "id": "c290c6d8",
   "metadata": {},
   "outputs": [
    {
     "name": "stdout",
     "output_type": "stream",
     "text": [
      "asli\n"
     ]
    }
   ],
   "source": [
    "if 2<3:\n",
    "    print(\"asli\")\n",
    " "
   ]
  },
  {
   "cell_type": "code",
   "execution_count": 5,
   "id": "76bb36c4",
   "metadata": {},
   "outputs": [],
   "source": [
    "if 3<2:\n",
    "    print(\"asli\")"
   ]
  },
  {
   "cell_type": "code",
   "execution_count": 6,
   "id": "924fc3fa",
   "metadata": {},
   "outputs": [
    {
     "name": "stdout",
     "output_type": "stream",
     "text": [
      "asli\n"
     ]
    }
   ],
   "source": [
    "if 4>3:\n",
    "    print(\"asli\")"
   ]
  },
  {
   "cell_type": "code",
   "execution_count": 9,
   "id": "6d48771c",
   "metadata": {},
   "outputs": [
    {
     "name": "stdout",
     "output_type": "stream",
     "text": [
      "asli\n"
     ]
    }
   ],
   "source": [
    "if 4>1:\n",
    "    print(\"asli\")\n",
    "elif 4==1:\n",
    "    print(\"mehmet\")\n",
    "else:\n",
    "    print(\"bebek \")"
   ]
  },
  {
   "cell_type": "code",
   "execution_count": 10,
   "id": "e8b29ab3",
   "metadata": {},
   "outputs": [
    {
     "name": "stdout",
     "output_type": "stream",
     "text": [
      "mehmet\n"
     ]
    }
   ],
   "source": [
    "if 1>1:\n",
    "    print(\"asli\")\n",
    "elif 1==1:\n",
    "    print(\"mehmet\")\n",
    "else:\n",
    "    print(\"bebek \")"
   ]
  },
  {
   "cell_type": "code",
   "execution_count": 13,
   "id": "b19e57c6",
   "metadata": {},
   "outputs": [
    {
     "name": "stdout",
     "output_type": "stream",
     "text": [
      "superhero: sanane\n"
     ]
    }
   ],
   "source": [
    "my_superhero=input(\"superhero: \")"
   ]
  },
  {
   "cell_type": "code",
   "execution_count": 14,
   "id": "53c7f968",
   "metadata": {},
   "outputs": [
    {
     "name": "stdout",
     "output_type": "stream",
     "text": [
      ":(\n"
     ]
    }
   ],
   "source": [
    "if my_superhero == \"Spiderman\":\n",
    "    print(\"ağ atarım, ucarım kacarım falan\")\n",
    "elif my_superhero == \"Batman\":\n",
    "    print(\"benim sporherom  Batman \")\n",
    "else:\n",
    "    print(\":(\")"
   ]
  },
  {
   "cell_type": "code",
   "execution_count": 15,
   "id": "36ba514d",
   "metadata": {},
   "outputs": [],
   "source": [
    "my_string=\"Aslı Mehmet'i seviyor mu? \""
   ]
  },
  {
   "cell_type": "code",
   "execution_count": 20,
   "id": "864a761d",
   "metadata": {},
   "outputs": [
    {
     "name": "stdout",
     "output_type": "stream",
     "text": [
      "evet mi hayır mi? : hayır\n"
     ]
    }
   ],
   "source": [
    "cevap = input(\"evet mi hayır mi? : \")"
   ]
  },
  {
   "cell_type": "code",
   "execution_count": 22,
   "id": "0a5120d2",
   "metadata": {},
   "outputs": [
    {
     "name": "stdout",
     "output_type": "stream",
     "text": [
      "yalan\n"
     ]
    }
   ],
   "source": [
    "if cevap == \"evet\":\n",
    "    print(\"e heralde yani\")\n",
    "else: \n",
    "    print(\"yalan\")\n"
   ]
  },
  {
   "cell_type": "code",
   "execution_count": 23,
   "id": "fd3df465",
   "metadata": {},
   "outputs": [
    {
     "name": "stdout",
     "output_type": "stream",
     "text": [
      "only youuuuuuu\n"
     ]
    }
   ],
   "source": [
    "if \"Aslı\" in my_string:\n",
    "    print(\"only youuuuuuu\")\n",
    "else:\n",
    "    print(\"bekleme yapma \")"
   ]
  },
  {
   "cell_type": "code",
   "execution_count": 24,
   "id": "8c569827",
   "metadata": {},
   "outputs": [],
   "source": [
    "my_dictionary ={\"k1\": 100, \"k2\":200}"
   ]
  },
  {
   "cell_type": "code",
   "execution_count": 25,
   "id": "78fe9444",
   "metadata": {},
   "outputs": [
    {
     "name": "stdout",
     "output_type": "stream",
     "text": [
      "true\n"
     ]
    }
   ],
   "source": [
    "if 100 in my_dictionary.values():\n",
    "    print(\"true\")\n",
    "else:\n",
    "    print(\"false\")"
   ]
  },
  {
   "cell_type": "code",
   "execution_count": null,
   "id": "48fe5c9d",
   "metadata": {},
   "outputs": [],
   "source": []
  }
 ],
 "metadata": {
  "kernelspec": {
   "display_name": "Python 3",
   "language": "python",
   "name": "python3"
  },
  "language_info": {
   "codemirror_mode": {
    "name": "ipython",
    "version": 3
   },
   "file_extension": ".py",
   "mimetype": "text/x-python",
   "name": "python",
   "nbconvert_exporter": "python",
   "pygments_lexer": "ipython3",
   "version": "3.8.8"
  }
 },
 "nbformat": 4,
 "nbformat_minor": 5
}
