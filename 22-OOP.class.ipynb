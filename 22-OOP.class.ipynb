{
 "cells": [
  {
   "cell_type": "markdown",
   "id": "9471b570",
   "metadata": {},
   "source": [
    "CLASS\n"
   ]
  },
  {
   "cell_type": "code",
   "execution_count": 2,
   "id": "8f021e42",
   "metadata": {},
   "outputs": [],
   "source": [
    "my_list = list () \n"
   ]
  },
  {
   "cell_type": "markdown",
   "id": "65764703",
   "metadata": {},
   "source": [
    "instance & attribute"
   ]
  },
  {
   "cell_type": "code",
   "execution_count": 3,
   "id": "e90a7ee2",
   "metadata": {},
   "outputs": [],
   "source": [
    "class Artist():\n",
    "    \n",
    "    def __init__(self, name, age):\n",
    "        self.name = name\n",
    "        self.age = age\n",
    "        "
   ]
  },
  {
   "cell_type": "code",
   "execution_count": 4,
   "id": "00a79e24",
   "metadata": {},
   "outputs": [],
   "source": [
    "my_artist = Artist(\"Eminem\", 50)"
   ]
  },
  {
   "cell_type": "code",
   "execution_count": 5,
   "id": "a6a31772",
   "metadata": {},
   "outputs": [
    {
     "data": {
      "text/plain": [
       "50"
      ]
     },
     "execution_count": 5,
     "metadata": {},
     "output_type": "execute_result"
    }
   ],
   "source": [
    "my_artist.age"
   ]
  },
  {
   "cell_type": "code",
   "execution_count": 6,
   "id": "44c5f297",
   "metadata": {},
   "outputs": [
    {
     "data": {
      "text/plain": [
       "'Eminem'"
      ]
     },
     "execution_count": 6,
     "metadata": {},
     "output_type": "execute_result"
    }
   ],
   "source": [
    "my_artist.name"
   ]
  },
  {
   "cell_type": "code",
   "execution_count": null,
   "id": "0c29fb31",
   "metadata": {},
   "outputs": [],
   "source": []
  }
 ],
 "metadata": {
  "kernelspec": {
   "display_name": "Python 3",
   "language": "python",
   "name": "python3"
  },
  "language_info": {
   "codemirror_mode": {
    "name": "ipython",
    "version": 3
   },
   "file_extension": ".py",
   "mimetype": "text/x-python",
   "name": "python",
   "nbconvert_exporter": "python",
   "pygments_lexer": "ipython3",
   "version": "3.8.8"
  }
 },
 "nbformat": 4,
 "nbformat_minor": 5
}
