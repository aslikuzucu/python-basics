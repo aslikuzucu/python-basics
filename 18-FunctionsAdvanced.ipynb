{
 "cells": [
  {
   "cell_type": "code",
   "execution_count": 1,
   "id": "4c7d3e87",
   "metadata": {},
   "outputs": [],
   "source": [
    "def toplama(num1,num2):\n",
    "    return num1 + num2"
   ]
  },
  {
   "cell_type": "markdown",
   "id": "022ffe0c",
   "metadata": {},
   "source": [
    "#*args >>belirsiz sayıdaki tanımlamalar için "
   ]
  },
  {
   "cell_type": "code",
   "execution_count": 4,
   "id": "60015000",
   "metadata": {},
   "outputs": [],
   "source": [
    "def toplama(*args):\n",
    "    return sum(args)"
   ]
  },
  {
   "cell_type": "code",
   "execution_count": 5,
   "id": "3ed13b36",
   "metadata": {},
   "outputs": [
    {
     "data": {
      "text/plain": [
       "252"
      ]
     },
     "execution_count": 5,
     "metadata": {},
     "output_type": "execute_result"
    }
   ],
   "source": [
    "toplama(40,52,86,74)"
   ]
  },
  {
   "cell_type": "markdown",
   "id": "9ddc5234",
   "metadata": {},
   "source": [
    "**kwargs"
   ]
  },
  {
   "cell_type": "code",
   "execution_count": 8,
   "id": "64b3d5a0",
   "metadata": {},
   "outputs": [],
   "source": [
    "def fonksiyon(**kwargs):\n",
    "    print(kwargs)"
   ]
  },
  {
   "cell_type": "code",
   "execution_count": 9,
   "id": "34559795",
   "metadata": {},
   "outputs": [
    {
     "name": "stdout",
     "output_type": "stream",
     "text": [
      "{'kosmak': 45, 'yuzmek': 78, 'basket': 89}\n"
     ]
    }
   ],
   "source": [
    "fonksiyon(kosmak=45,yuzmek=78,basket=89)"
   ]
  },
  {
   "cell_type": "code",
   "execution_count": 10,
   "id": "2da7db78",
   "metadata": {},
   "outputs": [],
   "source": [
    "def keyword(**kwargs):\n",
    "    if \"Metallica\" in kwargs:\n",
    "        print(\"yes baby\")\n",
    "    else:\n",
    "        print(\"rock is already dead\")"
   ]
  },
  {
   "cell_type": "code",
   "execution_count": 11,
   "id": "5f1312d3",
   "metadata": {},
   "outputs": [
    {
     "name": "stdout",
     "output_type": "stream",
     "text": [
      "yes baby\n"
     ]
    }
   ],
   "source": [
    "keyword(Metallica=47,Madonna=87)"
   ]
  },
  {
   "cell_type": "code",
   "execution_count": 13,
   "id": "5d872c3d",
   "metadata": {},
   "outputs": [
    {
     "name": "stdout",
     "output_type": "stream",
     "text": [
      "rock is already dead\n"
     ]
    }
   ],
   "source": [
    "keyword(Madonna=87)"
   ]
  },
  {
   "cell_type": "code",
   "execution_count": null,
   "id": "4d0a2e24",
   "metadata": {},
   "outputs": [],
   "source": []
  }
 ],
 "metadata": {
  "kernelspec": {
   "display_name": "Python 3",
   "language": "python",
   "name": "python3"
  },
  "language_info": {
   "codemirror_mode": {
    "name": "ipython",
    "version": 3
   },
   "file_extension": ".py",
   "mimetype": "text/x-python",
   "name": "python",
   "nbconvert_exporter": "python",
   "pygments_lexer": "ipython3",
   "version": "3.8.8"
  }
 },
 "nbformat": 4,
 "nbformat_minor": 5
}
