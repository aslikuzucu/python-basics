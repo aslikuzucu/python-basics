{
 "cells": [
  {
   "cell_type": "code",
   "execution_count": 1,
   "id": "75297e79",
   "metadata": {},
   "outputs": [],
   "source": [
    "my_string=\"hello worldyworld\""
   ]
  },
  {
   "cell_type": "code",
   "execution_count": 2,
   "id": "b36347fb",
   "metadata": {},
   "outputs": [
    {
     "data": {
      "text/plain": [
       "'hello worldyworld'"
      ]
     },
     "execution_count": 2,
     "metadata": {},
     "output_type": "execute_result"
    }
   ],
   "source": [
    "my_string"
   ]
  },
  {
   "cell_type": "code",
   "execution_count": 3,
   "id": "f82db388",
   "metadata": {},
   "outputs": [],
   "source": [
    "##indexing"
   ]
  },
  {
   "cell_type": "code",
   "execution_count": 4,
   "id": "c3bf9350",
   "metadata": {},
   "outputs": [
    {
     "data": {
      "text/plain": [
       "'h'"
      ]
     },
     "execution_count": 4,
     "metadata": {},
     "output_type": "execute_result"
    }
   ],
   "source": [
    "my_string[0]"
   ]
  },
  {
   "cell_type": "code",
   "execution_count": 5,
   "id": "090bd463",
   "metadata": {},
   "outputs": [
    {
     "data": {
      "text/plain": [
       "'o'"
      ]
     },
     "execution_count": 5,
     "metadata": {},
     "output_type": "execute_result"
    }
   ],
   "source": [
    "my_string[4]"
   ]
  },
  {
   "cell_type": "code",
   "execution_count": 6,
   "id": "5097b6a6",
   "metadata": {},
   "outputs": [],
   "source": [
    "my_string_2=\"12589746\""
   ]
  },
  {
   "cell_type": "code",
   "execution_count": 7,
   "id": "97fb85ea",
   "metadata": {},
   "outputs": [
    {
     "data": {
      "text/plain": [
       "'589746'"
      ]
     },
     "execution_count": 7,
     "metadata": {},
     "output_type": "execute_result"
    }
   ],
   "source": [
    "my_string_2[2:]"
   ]
  },
  {
   "cell_type": "code",
   "execution_count": 10,
   "id": "1271cce6",
   "metadata": {},
   "outputs": [
    {
     "data": {
      "text/plain": [
       "'125'"
      ]
     },
     "execution_count": 10,
     "metadata": {},
     "output_type": "execute_result"
    }
   ],
   "source": [
    "my_string_2[:3]"
   ]
  },
  {
   "cell_type": "code",
   "execution_count": 12,
   "id": "ef8aba5e",
   "metadata": {},
   "outputs": [
    {
     "data": {
      "text/plain": [
       "'1594'"
      ]
     },
     "execution_count": 12,
     "metadata": {},
     "output_type": "execute_result"
    }
   ],
   "source": [
    "my_string_2[::2]"
   ]
  },
  {
   "cell_type": "code",
   "execution_count": 13,
   "id": "b72dbd77",
   "metadata": {},
   "outputs": [
    {
     "data": {
      "text/plain": [
       "'64798521'"
      ]
     },
     "execution_count": 13,
     "metadata": {},
     "output_type": "execute_result"
    }
   ],
   "source": [
    "my_string_2[::-1]"
   ]
  },
  {
   "cell_type": "code",
   "execution_count": 23,
   "id": "e6e98482",
   "metadata": {},
   "outputs": [],
   "source": [
    "my_name =\"asli, mehmet\"\n"
   ]
  },
  {
   "cell_type": "code",
   "execution_count": 18,
   "id": "e3112d8b",
   "metadata": {},
   "outputs": [
    {
     "data": {
      "text/plain": [
       "'Asli'"
      ]
     },
     "execution_count": 18,
     "metadata": {},
     "output_type": "execute_result"
    }
   ],
   "source": [
    "my_name.capitalize()"
   ]
  },
  {
   "cell_type": "code",
   "execution_count": 20,
   "id": "729c07d9",
   "metadata": {},
   "outputs": [
    {
     "data": {
      "text/plain": [
       "'ASLI'"
      ]
     },
     "execution_count": 20,
     "metadata": {},
     "output_type": "execute_result"
    }
   ],
   "source": [
    "my_name.upper()"
   ]
  },
  {
   "cell_type": "code",
   "execution_count": 21,
   "id": "8a0c1b9b",
   "metadata": {},
   "outputs": [
    {
     "data": {
      "text/plain": [
       "'asli'"
      ]
     },
     "execution_count": 21,
     "metadata": {},
     "output_type": "execute_result"
    }
   ],
   "source": [
    "my_name.lower()"
   ]
  },
  {
   "cell_type": "code",
   "execution_count": 24,
   "id": "3be3f9fd",
   "metadata": {},
   "outputs": [
    {
     "data": {
      "text/plain": [
       "['asli,', 'mehmet']"
      ]
     },
     "execution_count": 24,
     "metadata": {},
     "output_type": "execute_result"
    }
   ],
   "source": [
    "my_name.split()"
   ]
  },
  {
   "cell_type": "code",
   "execution_count": 25,
   "id": "c6a8de9f",
   "metadata": {},
   "outputs": [
    {
     "data": {
      "text/plain": [
       "'ASLI, MEHMET'"
      ]
     },
     "execution_count": 25,
     "metadata": {},
     "output_type": "execute_result"
    }
   ],
   "source": [
    "my_name.upper()"
   ]
  },
  {
   "cell_type": "code",
   "execution_count": 29,
   "id": "aa6a0ba4",
   "metadata": {},
   "outputs": [
    {
     "data": {
      "text/plain": [
       "'asli mehmeti seviyor asli mehmeti seviyor asli mehmeti seviyor asli mehmeti seviyor asli mehmeti seviyor asli mehmeti seviyor asli mehmeti seviyor asli mehmeti seviyor asli mehmeti seviyor asli mehmeti seviyor asli mehmeti seviyor asli mehmeti seviyor asli mehmeti seviyor asli mehmeti seviyor asli mehmeti seviyor asli mehmeti seviyor asli mehmeti seviyor asli mehmeti seviyor asli mehmeti seviyor asli mehmeti seviyor asli mehmeti seviyor asli mehmeti seviyor asli mehmeti seviyor asli mehmeti seviyor asli mehmeti seviyor asli mehmeti seviyor asli mehmeti seviyor asli mehmeti seviyor asli mehmeti seviyor asli mehmeti seviyor asli mehmeti seviyor asli mehmeti seviyor asli mehmeti seviyor asli mehmeti seviyor asli mehmeti seviyor asli mehmeti seviyor asli mehmeti seviyor asli mehmeti seviyor asli mehmeti seviyor asli mehmeti seviyor asli mehmeti seviyor asli mehmeti seviyor asli mehmeti seviyor asli mehmeti seviyor asli mehmeti seviyor asli mehmeti seviyor asli mehmeti seviyor asli mehmeti seviyor asli mehmeti seviyor asli mehmeti seviyor asli mehmeti seviyor asli mehmeti seviyor asli mehmeti seviyor asli mehmeti seviyor asli mehmeti seviyor asli mehmeti seviyor asli mehmeti seviyor asli mehmeti seviyor asli mehmeti seviyor asli mehmeti seviyor asli mehmeti seviyor asli mehmeti seviyor asli mehmeti seviyor asli mehmeti seviyor asli mehmeti seviyor asli mehmeti seviyor asli mehmeti seviyor asli mehmeti seviyor asli mehmeti seviyor asli mehmeti seviyor asli mehmeti seviyor asli mehmeti seviyor asli mehmeti seviyor asli mehmeti seviyor asli mehmeti seviyor asli mehmeti seviyor asli mehmeti seviyor asli mehmeti seviyor asli mehmeti seviyor asli mehmeti seviyor asli mehmeti seviyor asli mehmeti seviyor asli mehmeti seviyor asli mehmeti seviyor asli mehmeti seviyor asli mehmeti seviyor asli mehmeti seviyor asli mehmeti seviyor asli mehmeti seviyor asli mehmeti seviyor asli mehmeti seviyor asli mehmeti seviyor asli mehmeti seviyor asli mehmeti seviyor asli mehmeti seviyor asli mehmeti seviyor asli mehmeti seviyor asli mehmeti seviyor asli mehmeti seviyor asli mehmeti seviyor '"
      ]
     },
     "execution_count": 29,
     "metadata": {},
     "output_type": "execute_result"
    }
   ],
   "source": [
    "\"asli mehmeti seviyor \"*10*10"
   ]
  },
  {
   "cell_type": "code",
   "execution_count": null,
   "id": "919b8c0d",
   "metadata": {},
   "outputs": [],
   "source": []
  }
 ],
 "metadata": {
  "kernelspec": {
   "display_name": "Python 3",
   "language": "python",
   "name": "python3"
  },
  "language_info": {
   "codemirror_mode": {
    "name": "ipython",
    "version": 3
   },
   "file_extension": ".py",
   "mimetype": "text/x-python",
   "name": "python",
   "nbconvert_exporter": "python",
   "pygments_lexer": "ipython3",
   "version": "3.8.8"
  }
 },
 "nbformat": 4,
 "nbformat_minor": 5
}
