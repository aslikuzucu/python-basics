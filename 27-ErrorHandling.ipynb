{
 "cells": [
  {
   "cell_type": "code",
   "execution_count": 1,
   "id": "edab7768",
   "metadata": {},
   "outputs": [],
   "source": [
    " def summation(num1,num2):\n",
    "        return num1 + num2 "
   ]
  },
  {
   "cell_type": "code",
   "execution_count": 2,
   "id": "d88f1bd5",
   "metadata": {},
   "outputs": [
    {
     "name": "stdout",
     "output_type": "stream",
     "text": [
      "enter number: 25\n"
     ]
    }
   ],
   "source": [
    "x = input ( \"enter number: \")"
   ]
  },
  {
   "cell_type": "code",
   "execution_count": 3,
   "id": "b102ab0d",
   "metadata": {},
   "outputs": [
    {
     "name": "stdout",
     "output_type": "stream",
     "text": [
      "enter number: 27\n"
     ]
    }
   ],
   "source": [
    "y = input ( \"enter number: \")"
   ]
  },
  {
   "cell_type": "code",
   "execution_count": 5,
   "id": "55957643",
   "metadata": {},
   "outputs": [],
   "source": [
    "x_int = int(x)"
   ]
  },
  {
   "cell_type": "code",
   "execution_count": 6,
   "id": "0833207c",
   "metadata": {},
   "outputs": [],
   "source": [
    "y_int = int(y)"
   ]
  },
  {
   "cell_type": "code",
   "execution_count": 7,
   "id": "110a2d83",
   "metadata": {},
   "outputs": [
    {
     "data": {
      "text/plain": [
       "52"
      ]
     },
     "execution_count": 7,
     "metadata": {},
     "output_type": "execute_result"
    }
   ],
   "source": [
    "summation(x_int, y_int)\n"
   ]
  },
  {
   "cell_type": "code",
   "execution_count": 8,
   "id": "712b0054",
   "metadata": {},
   "outputs": [],
   "source": [
    "def numberpower(num1):\n",
    "    return num1**2"
   ]
  },
  {
   "cell_type": "code",
   "execution_count": 9,
   "id": "559442f5",
   "metadata": {},
   "outputs": [
    {
     "data": {
      "text/plain": [
       "9"
      ]
     },
     "execution_count": 9,
     "metadata": {},
     "output_type": "execute_result"
    }
   ],
   "source": [
    "numberpower(3)"
   ]
  },
  {
   "cell_type": "markdown",
   "id": "ebaabbf8",
   "metadata": {},
   "source": [
    "try, except, finally"
   ]
  },
  {
   "cell_type": "code",
   "execution_count": 11,
   "id": "4f09c85a",
   "metadata": {},
   "outputs": [
    {
     "name": "stdout",
     "output_type": "stream",
     "text": [
      "enter a number: asli\n",
      "enter a number!!\n"
     ]
    }
   ],
   "source": [
    "try:\n",
    "    my_int = int(input(\"enter a number: \"))\n",
    "except:\n",
    "    print(\"enter a number!!\")"
   ]
  },
  {
   "cell_type": "code",
   "execution_count": 14,
   "id": "365a9b19",
   "metadata": {},
   "outputs": [
    {
     "name": "stdout",
     "output_type": "stream",
     "text": [
      "enter a number: asli\n",
      "enter a number!!\n",
      "finally\n",
      "enter a number: james\n",
      "enter a number!!\n",
      "finally\n",
      "enter a number: -10\n",
      "ok\n",
      "finally\n"
     ]
    }
   ],
   "source": [
    "while True:\n",
    "    try:\n",
    "        my_int = int(input(\"enter a number: \"))\n",
    "    except:\n",
    "        print(\"enter a number!!\")\n",
    "        continue\n",
    "    else:    \n",
    "        print(\"ok\")\n",
    "        break\n",
    "    finally:\n",
    "        print(\"finally\")\n",
    "    "
   ]
  },
  {
   "cell_type": "code",
   "execution_count": null,
   "id": "845a7076",
   "metadata": {},
   "outputs": [],
   "source": []
  }
 ],
 "metadata": {
  "kernelspec": {
   "display_name": "Python 3",
   "language": "python",
   "name": "python3"
  },
  "language_info": {
   "codemirror_mode": {
    "name": "ipython",
    "version": 3
   },
   "file_extension": ".py",
   "mimetype": "text/x-python",
   "name": "python",
   "nbconvert_exporter": "python",
   "pygments_lexer": "ipython3",
   "version": "3.8.8"
  }
 },
 "nbformat": 4,
 "nbformat_minor": 5
}
