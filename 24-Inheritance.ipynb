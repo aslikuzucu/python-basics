{
 "cells": [
  {
   "cell_type": "code",
   "execution_count": 1,
   "id": "a6f599e5",
   "metadata": {},
   "outputs": [],
   "source": [
    "class Class1():\n",
    "    \n",
    "    def __init__(self):\n",
    "        print(\"Class 1 created\")\n",
    "    def method_1(self):\n",
    "        print(\"method 1\")\n",
    "    def method_2(self):\n",
    "        print(\"method 2\")"
   ]
  },
  {
   "cell_type": "code",
   "execution_count": 3,
   "id": "5a72d74b",
   "metadata": {},
   "outputs": [
    {
     "name": "stdout",
     "output_type": "stream",
     "text": [
      "Class 1 created\n"
     ]
    }
   ],
   "source": [
    "my_instance = Class1()"
   ]
  },
  {
   "cell_type": "code",
   "execution_count": 4,
   "id": "f7636f38",
   "metadata": {},
   "outputs": [
    {
     "name": "stdout",
     "output_type": "stream",
     "text": [
      "method 1\n"
     ]
    }
   ],
   "source": [
    "my_instance.method_1()"
   ]
  },
  {
   "cell_type": "code",
   "execution_count": 6,
   "id": "16129ebd",
   "metadata": {},
   "outputs": [
    {
     "name": "stdout",
     "output_type": "stream",
     "text": [
      "method 2\n"
     ]
    }
   ],
   "source": [
    "my_instance.method_2()"
   ]
  },
  {
   "cell_type": "code",
   "execution_count": 7,
   "id": "2686be32",
   "metadata": {},
   "outputs": [],
   "source": [
    "class Class2(Class1):\n",
    "    \n",
    "    def __init__(self):\n",
    "        Class1.__init__(self)\n",
    "        print(\"Class 2 created\")"
   ]
  },
  {
   "cell_type": "code",
   "execution_count": 8,
   "id": "48c5800c",
   "metadata": {},
   "outputs": [
    {
     "name": "stdout",
     "output_type": "stream",
     "text": [
      "Class 1 created\n",
      "Class 2 created\n"
     ]
    }
   ],
   "source": [
    "my_instance_2 = Class2()"
   ]
  },
  {
   "cell_type": "code",
   "execution_count": null,
   "id": "6b5ff045",
   "metadata": {},
   "outputs": [],
   "source": []
  }
 ],
 "metadata": {
  "kernelspec": {
   "display_name": "Python 3",
   "language": "python",
   "name": "python3"
  },
  "language_info": {
   "codemirror_mode": {
    "name": "ipython",
    "version": 3
   },
   "file_extension": ".py",
   "mimetype": "text/x-python",
   "name": "python",
   "nbconvert_exporter": "python",
   "pygments_lexer": "ipython3",
   "version": "3.8.8"
  }
 },
 "nbformat": 4,
 "nbformat_minor": 5
}
