{
 "cells": [
  {
   "cell_type": "code",
   "execution_count": 1,
   "id": "876a4518",
   "metadata": {},
   "outputs": [],
   "source": [
    "my_list=[10,50,40,82,96]"
   ]
  },
  {
   "cell_type": "code",
   "execution_count": 2,
   "id": "0a940e7a",
   "metadata": {},
   "outputs": [
    {
     "name": "stdout",
     "output_type": "stream",
     "text": [
      "10\n",
      "50\n",
      "40\n",
      "82\n",
      "96\n"
     ]
    }
   ],
   "source": [
    "for number in my_list:\n",
    "    print(number)"
   ]
  },
  {
   "cell_type": "code",
   "execution_count": 3,
   "id": "7d912f1c",
   "metadata": {},
   "outputs": [
    {
     "name": "stdout",
     "output_type": "stream",
     "text": [
      "30\n",
      "150\n"
     ]
    }
   ],
   "source": [
    "for num in my_list:\n",
    "    if num == 40:\n",
    "        break\n",
    "    print(num*3) "
   ]
  },
  {
   "cell_type": "code",
   "execution_count": 4,
   "id": "86349ad8",
   "metadata": {},
   "outputs": [
    {
     "name": "stdout",
     "output_type": "stream",
     "text": [
      "50\n",
      "250\n",
      "200\n",
      "480\n"
     ]
    }
   ],
   "source": [
    "for item in my_list:\n",
    "    if (item) == 82:\n",
    "        continue\n",
    "    print (item * 5)    #o sayıyı görmesin diye"
   ]
  },
  {
   "cell_type": "code",
   "execution_count": 5,
   "id": "9156ecad",
   "metadata": {},
   "outputs": [],
   "source": [
    "for no in my_list:\n",
    "    pass\n",
    "#The pass statement is used as a placeholder for future code. When the pass statement is executed, nothing happens, but you avoid getting an error when empty code is not allowed. Empty code is not allowed in loops, function definitions, class definitions, or in if statements."
   ]
  },
  {
   "cell_type": "code",
   "execution_count": null,
   "id": "d5103906",
   "metadata": {},
   "outputs": [],
   "source": []
  }
 ],
 "metadata": {
  "kernelspec": {
   "display_name": "Python 3",
   "language": "python",
   "name": "python3"
  },
  "language_info": {
   "codemirror_mode": {
    "name": "ipython",
    "version": 3
   },
   "file_extension": ".py",
   "mimetype": "text/x-python",
   "name": "python",
   "nbconvert_exporter": "python",
   "pygments_lexer": "ipython3",
   "version": "3.8.8"
  }
 },
 "nbformat": 4,
 "nbformat_minor": 5
}
