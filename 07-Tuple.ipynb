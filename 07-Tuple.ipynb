{
 "cells": [
  {
   "cell_type": "code",
   "execution_count": 1,
   "id": "c3a06334",
   "metadata": {},
   "outputs": [],
   "source": [
    "my_list=[\"a\",1,\"c\"]"
   ]
  },
  {
   "cell_type": "code",
   "execution_count": 2,
   "id": "a063f739",
   "metadata": {},
   "outputs": [],
   "source": [
    "my_list[0]=\"b\""
   ]
  },
  {
   "cell_type": "code",
   "execution_count": 3,
   "id": "33bf2944",
   "metadata": {},
   "outputs": [
    {
     "data": {
      "text/plain": [
       "['b', 1, 'c']"
      ]
     },
     "execution_count": 3,
     "metadata": {},
     "output_type": "execute_result"
    }
   ],
   "source": [
    "my_list"
   ]
  },
  {
   "cell_type": "code",
   "execution_count": 7,
   "id": "7cde46ee",
   "metadata": {},
   "outputs": [],
   "source": [
    "my_tuple=[\"a\", \"s\",\"l\",\"i\"]"
   ]
  },
  {
   "cell_type": "code",
   "execution_count": 8,
   "id": "71a221e7",
   "metadata": {},
   "outputs": [],
   "source": [
    "my_tuple[1]=\"c\""
   ]
  },
  {
   "cell_type": "code",
   "execution_count": 9,
   "id": "bb92074e",
   "metadata": {},
   "outputs": [
    {
     "data": {
      "text/plain": [
       "['a', 'c', 'l', 'i']"
      ]
     },
     "execution_count": 9,
     "metadata": {},
     "output_type": "execute_result"
    }
   ],
   "source": [
    "my_tuple"
   ]
  },
  {
   "cell_type": "code",
   "execution_count": 10,
   "id": "7016d561",
   "metadata": {},
   "outputs": [],
   "source": [
    "#tupleisimmutable"
   ]
  },
  {
   "cell_type": "code",
   "execution_count": 11,
   "id": "b2325625",
   "metadata": {},
   "outputs": [
    {
     "data": {
      "text/plain": [
       "1"
      ]
     },
     "execution_count": 11,
     "metadata": {},
     "output_type": "execute_result"
    }
   ],
   "source": [
    "my_tuple.count(\"a\")"
   ]
  },
  {
   "cell_type": "code",
   "execution_count": null,
   "id": "15800f9c",
   "metadata": {},
   "outputs": [],
   "source": []
  }
 ],
 "metadata": {
  "kernelspec": {
   "display_name": "Python 3",
   "language": "python",
   "name": "python3"
  },
  "language_info": {
   "codemirror_mode": {
    "name": "ipython",
    "version": 3
   },
   "file_extension": ".py",
   "mimetype": "text/x-python",
   "name": "python",
   "nbconvert_exporter": "python",
   "pygments_lexer": "ipython3",
   "version": "3.8.8"
  }
 },
 "nbformat": 4,
 "nbformat_minor": 5
}
