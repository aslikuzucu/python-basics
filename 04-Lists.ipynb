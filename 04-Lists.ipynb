{
 "cells": [
  {
   "cell_type": "code",
   "execution_count": 1,
   "id": "f7bf52dc",
   "metadata": {},
   "outputs": [],
   "source": [
    "my_list =[1,2,3,4]"
   ]
  },
  {
   "cell_type": "code",
   "execution_count": 2,
   "id": "b72472e9",
   "metadata": {},
   "outputs": [
    {
     "data": {
      "text/plain": [
       "[1, 2, 3, 4]"
      ]
     },
     "execution_count": 2,
     "metadata": {},
     "output_type": "execute_result"
    }
   ],
   "source": [
    "my_list"
   ]
  },
  {
   "cell_type": "code",
   "execution_count": 3,
   "id": "e1f4ddd8",
   "metadata": {},
   "outputs": [],
   "source": [
    "my_list.append(7)"
   ]
  },
  {
   "cell_type": "code",
   "execution_count": 4,
   "id": "c768a1a2",
   "metadata": {},
   "outputs": [
    {
     "data": {
      "text/plain": [
       "[1, 2, 3, 4, 7]"
      ]
     },
     "execution_count": 4,
     "metadata": {},
     "output_type": "execute_result"
    }
   ],
   "source": [
    "my_list"
   ]
  },
  {
   "cell_type": "code",
   "execution_count": 5,
   "id": "d36cedb4",
   "metadata": {},
   "outputs": [
    {
     "data": {
      "text/plain": [
       "[1, 2, 3, 4, 7]"
      ]
     },
     "execution_count": 5,
     "metadata": {},
     "output_type": "execute_result"
    }
   ],
   "source": [
    "my_list"
   ]
  },
  {
   "cell_type": "code",
   "execution_count": 6,
   "id": "ffd6b28b",
   "metadata": {},
   "outputs": [
    {
     "data": {
      "text/plain": [
       "7"
      ]
     },
     "execution_count": 6,
     "metadata": {},
     "output_type": "execute_result"
    }
   ],
   "source": [
    "my_list.pop()"
   ]
  },
  {
   "cell_type": "code",
   "execution_count": 7,
   "id": "31e2c0f4",
   "metadata": {},
   "outputs": [
    {
     "data": {
      "text/plain": [
       "[1, 2, 3, 4]"
      ]
     },
     "execution_count": 7,
     "metadata": {},
     "output_type": "execute_result"
    }
   ],
   "source": [
    "my_list"
   ]
  },
  {
   "cell_type": "code",
   "execution_count": 8,
   "id": "f298b9da",
   "metadata": {},
   "outputs": [],
   "source": [
    "my_list_2= [\"a\",\"b\",\"c\"]"
   ]
  },
  {
   "cell_type": "code",
   "execution_count": 9,
   "id": "37f2567d",
   "metadata": {},
   "outputs": [],
   "source": [
    "my_list_3=[\"a\",\"g\",\"l\"]"
   ]
  },
  {
   "cell_type": "code",
   "execution_count": 10,
   "id": "b985c906",
   "metadata": {},
   "outputs": [],
   "source": [
    "my_list_4=my_list_2 + my_list_3"
   ]
  },
  {
   "cell_type": "code",
   "execution_count": 11,
   "id": "12318a08",
   "metadata": {},
   "outputs": [
    {
     "data": {
      "text/plain": [
       "['a', 'b', 'c', 'a', 'g', 'l']"
      ]
     },
     "execution_count": 11,
     "metadata": {},
     "output_type": "execute_result"
    }
   ],
   "source": [
    "my_list_4"
   ]
  },
  {
   "cell_type": "code",
   "execution_count": 12,
   "id": "d8f57f8b",
   "metadata": {},
   "outputs": [],
   "source": [
    "my_list_4.reverse()"
   ]
  },
  {
   "cell_type": "code",
   "execution_count": 13,
   "id": "f3d5fc6d",
   "metadata": {},
   "outputs": [
    {
     "data": {
      "text/plain": [
       "['l', 'g', 'a', 'c', 'b', 'a']"
      ]
     },
     "execution_count": 13,
     "metadata": {},
     "output_type": "execute_result"
    }
   ],
   "source": [
    "my_list_4"
   ]
  },
  {
   "cell_type": "code",
   "execution_count": 14,
   "id": "d6473032",
   "metadata": {},
   "outputs": [],
   "source": [
    "#nested"
   ]
  },
  {
   "cell_type": "code",
   "execution_count": 15,
   "id": "cb6802c4",
   "metadata": {},
   "outputs": [],
   "source": [
    "new_list =[1,5,7]"
   ]
  },
  {
   "cell_type": "code",
   "execution_count": 16,
   "id": "006ddb82",
   "metadata": {},
   "outputs": [],
   "source": [
    "new_list=[1,5,7,[3,\"a\"]]"
   ]
  },
  {
   "cell_type": "code",
   "execution_count": 17,
   "id": "0c982a7b",
   "metadata": {},
   "outputs": [
    {
     "data": {
      "text/plain": [
       "[1, 5, 7, [3, 'a']]"
      ]
     },
     "execution_count": 17,
     "metadata": {},
     "output_type": "execute_result"
    }
   ],
   "source": [
    "new_list"
   ]
  },
  {
   "cell_type": "code",
   "execution_count": 18,
   "id": "7e3352c1",
   "metadata": {},
   "outputs": [
    {
     "data": {
      "text/plain": [
       "[3, 'a']"
      ]
     },
     "execution_count": 18,
     "metadata": {},
     "output_type": "execute_result"
    }
   ],
   "source": [
    "new_list[3]"
   ]
  },
  {
   "cell_type": "code",
   "execution_count": 19,
   "id": "16aea6db",
   "metadata": {},
   "outputs": [
    {
     "data": {
      "text/plain": [
       "[7, [3, 'a']]"
      ]
     },
     "execution_count": 19,
     "metadata": {},
     "output_type": "execute_result"
    }
   ],
   "source": [
    "new_list[2:]"
   ]
  },
  {
   "cell_type": "code",
   "execution_count": null,
   "id": "973cf811",
   "metadata": {},
   "outputs": [],
   "source": []
  }
 ],
 "metadata": {
  "kernelspec": {
   "display_name": "Python 3",
   "language": "python",
   "name": "python3"
  },
  "language_info": {
   "codemirror_mode": {
    "name": "ipython",
    "version": 3
   },
   "file_extension": ".py",
   "mimetype": "text/x-python",
   "name": "python",
   "nbconvert_exporter": "python",
   "pygments_lexer": "ipython3",
   "version": "3.8.8"
  }
 },
 "nbformat": 4,
 "nbformat_minor": 5
}
