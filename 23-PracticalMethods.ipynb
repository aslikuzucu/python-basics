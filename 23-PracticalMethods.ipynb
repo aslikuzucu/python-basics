{
 "cells": [
  {
   "cell_type": "code",
   "execution_count": 7,
   "id": "501295e1",
   "metadata": {},
   "outputs": [],
   "source": [
    "class DogYears():\n",
    "    \n",
    "    year_factor = 7\n",
    "    \n",
    "    def __init__(self,age):\n",
    "        self.age = age\n",
    "        \n",
    "    def calculation(self) :\n",
    "        return self.age * self.year_factor"
   ]
  },
  {
   "cell_type": "code",
   "execution_count": 8,
   "id": "de65cbce",
   "metadata": {},
   "outputs": [],
   "source": [
    "my_dog = DogYears(3)"
   ]
  },
  {
   "cell_type": "code",
   "execution_count": 9,
   "id": "b194141f",
   "metadata": {},
   "outputs": [
    {
     "data": {
      "text/plain": [
       "21"
      ]
     },
     "execution_count": 9,
     "metadata": {},
     "output_type": "execute_result"
    }
   ],
   "source": [
    "my_dog.calculation()"
   ]
  },
  {
   "cell_type": "code",
   "execution_count": null,
   "id": "5488b3cd",
   "metadata": {},
   "outputs": [],
   "source": []
  }
 ],
 "metadata": {
  "kernelspec": {
   "display_name": "Python 3",
   "language": "python",
   "name": "python3"
  },
  "language_info": {
   "codemirror_mode": {
    "name": "ipython",
    "version": 3
   },
   "file_extension": ".py",
   "mimetype": "text/x-python",
   "name": "python",
   "nbconvert_exporter": "python",
   "pygments_lexer": "ipython3",
   "version": "3.8.8"
  }
 },
 "nbformat": 4,
 "nbformat_minor": 5
}
