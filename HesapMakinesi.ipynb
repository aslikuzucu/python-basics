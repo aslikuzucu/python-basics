{
 "cells": [
  {
   "cell_type": "code",
   "execution_count": 1,
   "id": "4af047a6",
   "metadata": {},
   "outputs": [
    {
     "name": "stdout",
     "output_type": "stream",
     "text": [
      "HESAP MAKİNESİ\n"
     ]
    }
   ],
   "source": [
    "print(\"HESAP MAKİNESİ\")"
   ]
  },
  {
   "cell_type": "code",
   "execution_count": null,
   "id": "84950a02",
   "metadata": {},
   "outputs": [],
   "source": [
    "def calc(x,y,opr):\n",
    "    if ops not in \"+-*/\":\n",
    "        return \"only +-*/\"\n",
    "    if ops == \"+\":\n",
    "        return(str(x) + \" \" + ops + \" \" + str(y) + \" = \"+ str(x+y))\n",
    "    elif ops == \"-\":\n",
    "         return(str(x) + \" \" + ops + \" \" + str(y) + \" = \"+ str(x-y))\n",
    "    elif ops == \"*\":\n",
    "        return(str(x) + \" \" + ops + \" \" + str(y) + \" = \"+ str(x*y))\n",
    "    elif ops == \"/\":\n",
    "        return(str(x) + \" \" + ops + \" \" + str(y) + \" = \"+ str(x/y))\n",
    "while True: #surekli calissin diye\n",
    "x = input (\"ilk sayıyı giriniz : \")\n",
    "y = input( \"ikinci sayiyi giriniz: \")\n",
    "ops= input (\"birini secin +,-,*,/\")\n",
    "\n",
    "print(calc(x,y,ops))"
   ]
  }
 ],
 "metadata": {
  "kernelspec": {
   "display_name": "Python 3",
   "language": "python",
   "name": "python3"
  },
  "language_info": {
   "codemirror_mode": {
    "name": "ipython",
    "version": 3
   },
   "file_extension": ".py",
   "mimetype": "text/x-python",
   "name": "python",
   "nbconvert_exporter": "python",
   "pygments_lexer": "ipython3",
   "version": "3.8.8"
  }
 },
 "nbformat": 4,
 "nbformat_minor": 5
}
