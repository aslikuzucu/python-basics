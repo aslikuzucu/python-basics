{
 "cells": [
  {
   "cell_type": "code",
   "execution_count": 1,
   "id": "c1d46cb8",
   "metadata": {},
   "outputs": [],
   "source": [
    "number = 10\n",
    "\n",
    "def carpma (num):\n",
    "    number = 5\n",
    "    return num*number"
   ]
  },
  {
   "cell_type": "code",
   "execution_count": 2,
   "id": "c27c63ff",
   "metadata": {},
   "outputs": [
    {
     "data": {
      "text/plain": [
       "50"
      ]
     },
     "execution_count": 2,
     "metadata": {},
     "output_type": "execute_result"
    }
   ],
   "source": [
    "carpma(10)"
   ]
  },
  {
   "cell_type": "code",
   "execution_count": 3,
   "id": "7563977b",
   "metadata": {},
   "outputs": [
    {
     "name": "stdout",
     "output_type": "stream",
     "text": [
      "10\n"
     ]
    }
   ],
   "source": [
    "print(number)"
   ]
  },
  {
   "cell_type": "markdown",
   "id": "f37178b8",
   "metadata": {},
   "source": [
    "LEGB\n",
    "L->LOCAL\n",
    "E->ENCLOSING\n",
    "G->GLOBAL\n",
    "B->BUILT-IN"
   ]
  },
  {
   "cell_type": "code",
   "execution_count": 16,
   "id": "de80c56f",
   "metadata": {},
   "outputs": [],
   "source": [
    "my_string = \"Asli\"\n",
    "\n",
    "def my_func():\n",
    "    my_string = \"Hatice\"\n",
    "    print(my_string)\n",
    "    \n"
   ]
  },
  {
   "cell_type": "code",
   "execution_count": 17,
   "id": "3ca5bf5c",
   "metadata": {},
   "outputs": [
    {
     "name": "stdout",
     "output_type": "stream",
     "text": [
      "Hatice\n"
     ]
    }
   ],
   "source": [
    "my_func()"
   ]
  },
  {
   "cell_type": "code",
   "execution_count": 18,
   "id": "acc325bd",
   "metadata": {},
   "outputs": [
    {
     "data": {
      "text/plain": [
       "'Asli'"
      ]
     },
     "execution_count": 18,
     "metadata": {},
     "output_type": "execute_result"
    }
   ],
   "source": [
    "my_string"
   ]
  },
  {
   "cell_type": "code",
   "execution_count": 30,
   "id": "b8367a6c",
   "metadata": {},
   "outputs": [],
   "source": [
    "y = 19\n",
    "def new_func(y):\n",
    "    print(y)\n",
    "    y=6\n",
    "    print(y)\n",
    "    return(y)"
   ]
  },
  {
   "cell_type": "code",
   "execution_count": 31,
   "id": "871fa61a",
   "metadata": {},
   "outputs": [
    {
     "name": "stdout",
     "output_type": "stream",
     "text": [
      "19\n",
      "6\n"
     ]
    },
    {
     "data": {
      "text/plain": [
       "6"
      ]
     },
     "execution_count": 31,
     "metadata": {},
     "output_type": "execute_result"
    }
   ],
   "source": [
    "new_func(19)"
   ]
  },
  {
   "cell_type": "code",
   "execution_count": 32,
   "id": "0a0b2cf8",
   "metadata": {},
   "outputs": [
    {
     "name": "stdout",
     "output_type": "stream",
     "text": [
      "19\n",
      "6\n"
     ]
    }
   ],
   "source": [
    "y = new_func(y)"
   ]
  },
  {
   "cell_type": "code",
   "execution_count": 33,
   "id": "fcd0f2ff",
   "metadata": {},
   "outputs": [
    {
     "data": {
      "text/plain": [
       "6"
      ]
     },
     "execution_count": 33,
     "metadata": {},
     "output_type": "execute_result"
    }
   ],
   "source": [
    "y"
   ]
  },
  {
   "cell_type": "code",
   "execution_count": null,
   "id": "0c6c81b5",
   "metadata": {},
   "outputs": [],
   "source": []
  }
 ],
 "metadata": {
  "kernelspec": {
   "display_name": "Python 3",
   "language": "python",
   "name": "python3"
  },
  "language_info": {
   "codemirror_mode": {
    "name": "ipython",
    "version": 3
   },
   "file_extension": ".py",
   "mimetype": "text/x-python",
   "name": "python",
   "nbconvert_exporter": "python",
   "pygments_lexer": "ipython3",
   "version": "3.8.8"
  }
 },
 "nbformat": 4,
 "nbformat_minor": 5
}
