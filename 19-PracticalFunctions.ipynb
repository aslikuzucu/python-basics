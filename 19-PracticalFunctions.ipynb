{
 "cells": [
  {
   "cell_type": "code",
   "execution_count": 1,
   "id": "d4e3e69b",
   "metadata": {},
   "outputs": [],
   "source": [
    "def bolmek(number):\n",
    "    return number/2 "
   ]
  },
  {
   "cell_type": "code",
   "execution_count": 3,
   "id": "90a6ce3f",
   "metadata": {},
   "outputs": [
    {
     "data": {
      "text/plain": [
       "3.0"
      ]
     },
     "execution_count": 3,
     "metadata": {},
     "output_type": "execute_result"
    }
   ],
   "source": [
    "bolmek(6)"
   ]
  },
  {
   "cell_type": "code",
   "execution_count": 4,
   "id": "a4f4fd49",
   "metadata": {},
   "outputs": [],
   "source": [
    "my_list=[1,2,3,4,5,6,7,8,9]"
   ]
  },
  {
   "cell_type": "code",
   "execution_count": 5,
   "id": "f64f92af",
   "metadata": {},
   "outputs": [
    {
     "name": "stdout",
     "output_type": "stream",
     "text": [
      "0.5\n",
      "1.0\n",
      "1.5\n",
      "2.0\n",
      "2.5\n",
      "3.0\n",
      "3.5\n",
      "4.0\n",
      "4.5\n"
     ]
    }
   ],
   "source": [
    "for num in my_list:\n",
    "    print(bolmek(num))"
   ]
  },
  {
   "cell_type": "markdown",
   "id": "9dc3b18d",
   "metadata": {},
   "source": [
    "MAP"
   ]
  },
  {
   "cell_type": "code",
   "execution_count": 7,
   "id": "0b050c56",
   "metadata": {},
   "outputs": [
    {
     "data": {
      "text/plain": [
       "[0.5, 1.0, 1.5, 2.0, 2.5, 3.0, 3.5, 4.0, 4.5]"
      ]
     },
     "execution_count": 7,
     "metadata": {},
     "output_type": "execute_result"
    }
   ],
   "source": [
    "list(map(bolmek, my_list))"
   ]
  },
  {
   "cell_type": "code",
   "execution_count": 8,
   "id": "1a383a03",
   "metadata": {},
   "outputs": [],
   "source": [
    "def control_string(string):\n",
    "    return \"Eminem\" in string"
   ]
  },
  {
   "cell_type": "code",
   "execution_count": 9,
   "id": "f5286c07",
   "metadata": {},
   "outputs": [
    {
     "data": {
      "text/plain": [
       "True"
      ]
     },
     "execution_count": 9,
     "metadata": {},
     "output_type": "execute_result"
    }
   ],
   "source": [
    "control_string(\"Eminem is the best rapper in the whole world\")"
   ]
  },
  {
   "cell_type": "code",
   "execution_count": 10,
   "id": "adffc152",
   "metadata": {},
   "outputs": [],
   "source": [
    "my_artist_list=[\"Eminem\",\"Metallica\", \"Tupac\",\"Rihanna\"]"
   ]
  },
  {
   "cell_type": "code",
   "execution_count": 13,
   "id": "ad6637f6",
   "metadata": {},
   "outputs": [
    {
     "data": {
      "text/plain": [
       "[True, False, False, False]"
      ]
     },
     "execution_count": 13,
     "metadata": {},
     "output_type": "execute_result"
    }
   ],
   "source": [
    "list(map(control_string,my_artist_list))"
   ]
  },
  {
   "cell_type": "markdown",
   "id": "c41760a1",
   "metadata": {},
   "source": [
    "FİLTER"
   ]
  },
  {
   "cell_type": "code",
   "execution_count": 14,
   "id": "3da64d65",
   "metadata": {},
   "outputs": [
    {
     "data": {
      "text/plain": [
       "['Eminem']"
      ]
     },
     "execution_count": 14,
     "metadata": {},
     "output_type": "execute_result"
    }
   ],
   "source": [
    "list(filter(control_string,my_artist_list))"
   ]
  },
  {
   "cell_type": "markdown",
   "id": "9eca4e62",
   "metadata": {},
   "source": [
    "LAMBDA"
   ]
  },
  {
   "cell_type": "code",
   "execution_count": 15,
   "id": "90cfead9",
   "metadata": {},
   "outputs": [],
   "source": [
    "def carpma(number):\n",
    "    return number * 8"
   ]
  },
  {
   "cell_type": "code",
   "execution_count": 16,
   "id": "b3c04ab6",
   "metadata": {},
   "outputs": [
    {
     "data": {
      "text/plain": [
       "64"
      ]
     },
     "execution_count": 16,
     "metadata": {},
     "output_type": "execute_result"
    }
   ],
   "source": [
    "carpma(8)"
   ]
  },
  {
   "cell_type": "code",
   "execution_count": 18,
   "id": "870dc6dd",
   "metadata": {},
   "outputs": [],
   "source": [
    "my_list_3 = [4,7,8,9]"
   ]
  },
  {
   "cell_type": "code",
   "execution_count": 20,
   "id": "8f89675f",
   "metadata": {},
   "outputs": [
    {
     "data": {
      "text/plain": [
       "[16, 28, 32, 36]"
      ]
     },
     "execution_count": 20,
     "metadata": {},
     "output_type": "execute_result"
    }
   ],
   "source": [
    "list(map(lambda num:num*4,my_list_3))"
   ]
  },
  {
   "cell_type": "code",
   "execution_count": null,
   "id": "6fcff8f9",
   "metadata": {},
   "outputs": [],
   "source": []
  }
 ],
 "metadata": {
  "kernelspec": {
   "display_name": "Python 3",
   "language": "python",
   "name": "python3"
  },
  "language_info": {
   "codemirror_mode": {
    "name": "ipython",
    "version": 3
   },
   "file_extension": ".py",
   "mimetype": "text/x-python",
   "name": "python",
   "nbconvert_exporter": "python",
   "pygments_lexer": "ipython3",
   "version": "3.8.8"
  }
 },
 "nbformat": 4,
 "nbformat_minor": 5
}
