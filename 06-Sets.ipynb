{
 "cells": [
  {
   "cell_type": "code",
   "execution_count": 1,
   "id": "cbd4ea44",
   "metadata": {},
   "outputs": [],
   "source": [
    "my_list = [1,5,7,8,8]"
   ]
  },
  {
   "cell_type": "code",
   "execution_count": 2,
   "id": "2dab59a0",
   "metadata": {},
   "outputs": [],
   "source": [
    "#casting"
   ]
  },
  {
   "cell_type": "code",
   "execution_count": 3,
   "id": "bc2e81b2",
   "metadata": {},
   "outputs": [],
   "source": [
    "my_set = set(my_list)"
   ]
  },
  {
   "cell_type": "code",
   "execution_count": 6,
   "id": "81a0da7f",
   "metadata": {},
   "outputs": [
    {
     "data": {
      "text/plain": [
       "{1, 5, 7, 8}"
      ]
     },
     "execution_count": 6,
     "metadata": {},
     "output_type": "execute_result"
    }
   ],
   "source": [
    "my_set"
   ]
  },
  {
   "cell_type": "code",
   "execution_count": 7,
   "id": "716e161c",
   "metadata": {},
   "outputs": [],
   "source": [
    "my_set_2={\"asli\",\"asli\",\"asli\"}"
   ]
  },
  {
   "cell_type": "code",
   "execution_count": 8,
   "id": "b60b8f53",
   "metadata": {},
   "outputs": [
    {
     "data": {
      "text/plain": [
       "set"
      ]
     },
     "execution_count": 8,
     "metadata": {},
     "output_type": "execute_result"
    }
   ],
   "source": [
    "type(my_set_2)"
   ]
  },
  {
   "cell_type": "code",
   "execution_count": 9,
   "id": "779fcecf",
   "metadata": {},
   "outputs": [
    {
     "data": {
      "text/plain": [
       "{'asli'}"
      ]
     },
     "execution_count": 9,
     "metadata": {},
     "output_type": "execute_result"
    }
   ],
   "source": [
    "my_set_2"
   ]
  },
  {
   "cell_type": "code",
   "execution_count": 10,
   "id": "c0301b2a",
   "metadata": {},
   "outputs": [],
   "source": [
    "my_set_3=set()"
   ]
  },
  {
   "cell_type": "code",
   "execution_count": 11,
   "id": "68225ce7",
   "metadata": {},
   "outputs": [
    {
     "data": {
      "text/plain": [
       "set"
      ]
     },
     "execution_count": 11,
     "metadata": {},
     "output_type": "execute_result"
    }
   ],
   "source": [
    "type(my_set)"
   ]
  },
  {
   "cell_type": "code",
   "execution_count": null,
   "id": "ee90069a",
   "metadata": {},
   "outputs": [],
   "source": []
  }
 ],
 "metadata": {
  "kernelspec": {
   "display_name": "Python 3",
   "language": "python",
   "name": "python3"
  },
  "language_info": {
   "codemirror_mode": {
    "name": "ipython",
    "version": 3
   },
   "file_extension": ".py",
   "mimetype": "text/x-python",
   "name": "python",
   "nbconvert_exporter": "python",
   "pygments_lexer": "ipython3",
   "version": "3.8.8"
  }
 },
 "nbformat": 4,
 "nbformat_minor": 5
}
