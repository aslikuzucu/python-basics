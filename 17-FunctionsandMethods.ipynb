{
 "cells": [
  {
   "cell_type": "code",
   "execution_count": 1,
   "id": "ea88b7db",
   "metadata": {},
   "outputs": [],
   "source": [
    "my_string = \"Asli\""
   ]
  },
  {
   "cell_type": "code",
   "execution_count": 2,
   "id": "bcb82962",
   "metadata": {},
   "outputs": [
    {
     "data": {
      "text/plain": [
       "'ASLI'"
      ]
     },
     "execution_count": 2,
     "metadata": {},
     "output_type": "execute_result"
    }
   ],
   "source": [
    "my_string.upper()"
   ]
  },
  {
   "cell_type": "code",
   "execution_count": 3,
   "id": "d3b56701",
   "metadata": {},
   "outputs": [],
   "source": [
    "def fonksiyon_ad():\n",
    "    print(\"bu bir fonksiyon\")\n",
    "    "
   ]
  },
  {
   "cell_type": "code",
   "execution_count": 8,
   "id": "56318660",
   "metadata": {},
   "outputs": [
    {
     "name": "stdout",
     "output_type": "stream",
     "text": [
      "bu bir fonksiyon\n"
     ]
    }
   ],
   "source": [
    "fonksiyon_ad()"
   ]
  },
  {
   "cell_type": "markdown",
   "id": "63c2d672",
   "metadata": {},
   "source": [
    "input & return "
   ]
  },
  {
   "cell_type": "code",
   "execution_count": 9,
   "id": "eb8075fe",
   "metadata": {},
   "outputs": [],
   "source": [
    "def programlamaya_giris(isim):\n",
    "    print (\"Merhaba\")\n",
    "    print (isim)"
   ]
  },
  {
   "cell_type": "code",
   "execution_count": 10,
   "id": "9e8e3f15",
   "metadata": {},
   "outputs": [
    {
     "name": "stdout",
     "output_type": "stream",
     "text": [
      "Merhaba\n",
      "Asli\n"
     ]
    }
   ],
   "source": [
    "programlamaya_giris(\"Asli\")"
   ]
  },
  {
   "cell_type": "code",
   "execution_count": 12,
   "id": "c467dfb1",
   "metadata": {},
   "outputs": [],
   "source": [
    "def programlama(isim=\"python\"):\n",
    "    print(\"merhaba\")\n",
    "    print(isim)"
   ]
  },
  {
   "cell_type": "code",
   "execution_count": 13,
   "id": "72590264",
   "metadata": {},
   "outputs": [
    {
     "name": "stdout",
     "output_type": "stream",
     "text": [
      "merhaba\n",
      "python\n"
     ]
    }
   ],
   "source": [
    "programlama()"
   ]
  },
  {
   "cell_type": "code",
   "execution_count": 14,
   "id": "ac4c32a9",
   "metadata": {},
   "outputs": [],
   "source": [
    "def toplama(ilkSayi, ikinciSayi):\n",
    "    ucuncuSayi=ilkSayi+ikinciSayi\n",
    "    print(ucuncuSayi)"
   ]
  },
  {
   "cell_type": "code",
   "execution_count": 15,
   "id": "89c70429",
   "metadata": {},
   "outputs": [
    {
     "name": "stdout",
     "output_type": "stream",
     "text": [
      "131\n"
     ]
    }
   ],
   "source": [
    "toplama(45,86)"
   ]
  },
  {
   "cell_type": "code",
   "execution_count": 16,
   "id": "858fa18f",
   "metadata": {},
   "outputs": [],
   "source": [
    "def toplama2(num1,num2,num3):\n",
    "    return num1+ num2+num3\n"
   ]
  },
  {
   "cell_type": "code",
   "execution_count": 17,
   "id": "0f6017cb",
   "metadata": {},
   "outputs": [
    {
     "data": {
      "text/plain": [
       "131"
      ]
     },
     "execution_count": 17,
     "metadata": {},
     "output_type": "execute_result"
    }
   ],
   "source": [
    "toplama2(45,74,12)"
   ]
  },
  {
   "cell_type": "code",
   "execution_count": 18,
   "id": "1a44e5a0",
   "metadata": {},
   "outputs": [],
   "source": [
    "sonuc = toplama2(45,74,12)"
   ]
  },
  {
   "cell_type": "code",
   "execution_count": 19,
   "id": "2fd13b12",
   "metadata": {},
   "outputs": [
    {
     "data": {
      "text/plain": [
       "131"
      ]
     },
     "execution_count": 19,
     "metadata": {},
     "output_type": "execute_result"
    }
   ],
   "source": [
    "sonuc"
   ]
  },
  {
   "cell_type": "code",
   "execution_count": 20,
   "id": "974194f0",
   "metadata": {},
   "outputs": [],
   "source": [
    "def control_string(s):\n",
    "    if s[0]== \"m\":\n",
    "        print(\"m\")"
   ]
  },
  {
   "cell_type": "code",
   "execution_count": 21,
   "id": "04d3fc70",
   "metadata": {},
   "outputs": [],
   "source": [
    "control_string(\"asli\")"
   ]
  },
  {
   "cell_type": "code",
   "execution_count": 22,
   "id": "92aa7f09",
   "metadata": {},
   "outputs": [
    {
     "name": "stdout",
     "output_type": "stream",
     "text": [
      "m\n"
     ]
    }
   ],
   "source": [
    "control_string(\"mehmet\")"
   ]
  },
  {
   "cell_type": "code",
   "execution_count": 23,
   "id": "6d602e80",
   "metadata": {},
   "outputs": [],
   "source": [
    "def control_string(s):\n",
    "    if s[0]== \"a\":\n",
    "        print(s.capitalize())"
   ]
  },
  {
   "cell_type": "code",
   "execution_count": 24,
   "id": "bda11587",
   "metadata": {},
   "outputs": [
    {
     "name": "stdout",
     "output_type": "stream",
     "text": [
      "Asli\n"
     ]
    }
   ],
   "source": [
    "control_string(\"asli\")"
   ]
  },
  {
   "cell_type": "code",
   "execution_count": null,
   "id": "2fad908f",
   "metadata": {},
   "outputs": [],
   "source": []
  }
 ],
 "metadata": {
  "kernelspec": {
   "display_name": "Python 3",
   "language": "python",
   "name": "python3"
  },
  "language_info": {
   "codemirror_mode": {
    "name": "ipython",
    "version": 3
   },
   "file_extension": ".py",
   "mimetype": "text/x-python",
   "name": "python",
   "nbconvert_exporter": "python",
   "pygments_lexer": "ipython3",
   "version": "3.8.8"
  }
 },
 "nbformat": 4,
 "nbformat_minor": 5
}
