{
 "cells": [
  {
   "cell_type": "code",
   "execution_count": 2,
   "id": "38a16761",
   "metadata": {},
   "outputs": [],
   "source": [
    "my_dictionary = {\"key\":\"value\"}"
   ]
  },
  {
   "cell_type": "code",
   "execution_count": 3,
   "id": "d98c135e",
   "metadata": {},
   "outputs": [
    {
     "data": {
      "text/plain": [
       "'value'"
      ]
     },
     "execution_count": 3,
     "metadata": {},
     "output_type": "execute_result"
    }
   ],
   "source": [
    "my_dictionary[\"key\"]"
   ]
  },
  {
   "cell_type": "code",
   "execution_count": 4,
   "id": "89885f50",
   "metadata": {},
   "outputs": [],
   "source": [
    "my_list = {\"kosmak\":200, \"yuzmek\":500}"
   ]
  },
  {
   "cell_type": "code",
   "execution_count": 5,
   "id": "c734ba27",
   "metadata": {},
   "outputs": [
    {
     "data": {
      "text/plain": [
       "200"
      ]
     },
     "execution_count": 5,
     "metadata": {},
     "output_type": "execute_result"
    }
   ],
   "source": [
    "my_list[\"kosmak\"]"
   ]
  },
  {
   "cell_type": "code",
   "execution_count": 8,
   "id": "b992ef84",
   "metadata": {},
   "outputs": [],
   "source": [
    "my_list_2 = {\"k1\":5, \"k2\":{\"a\":7}}"
   ]
  },
  {
   "cell_type": "code",
   "execution_count": 9,
   "id": "a0579b06",
   "metadata": {},
   "outputs": [
    {
     "data": {
      "text/plain": [
       "{'a': 7}"
      ]
     },
     "execution_count": 9,
     "metadata": {},
     "output_type": "execute_result"
    }
   ],
   "source": [
    "my_list_2[\"k2\"]"
   ]
  },
  {
   "cell_type": "code",
   "execution_count": 10,
   "id": "b3abac30",
   "metadata": {},
   "outputs": [
    {
     "data": {
      "text/plain": [
       "7"
      ]
     },
     "execution_count": 10,
     "metadata": {},
     "output_type": "execute_result"
    }
   ],
   "source": [
    "my_list_2[\"k2\"][\"a\"]"
   ]
  },
  {
   "cell_type": "code",
   "execution_count": null,
   "id": "62f8b24d",
   "metadata": {},
   "outputs": [],
   "source": []
  }
 ],
 "metadata": {
  "kernelspec": {
   "display_name": "Python 3",
   "language": "python",
   "name": "python3"
  },
  "language_info": {
   "codemirror_mode": {
    "name": "ipython",
    "version": 3
   },
   "file_extension": ".py",
   "mimetype": "text/x-python",
   "name": "python",
   "nbconvert_exporter": "python",
   "pygments_lexer": "ipython3",
   "version": "3.8.8"
  }
 },
 "nbformat": 4,
 "nbformat_minor": 5
}
