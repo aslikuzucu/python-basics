{
 "cells": [
  {
   "cell_type": "code",
   "execution_count": 7,
   "id": "4778c468",
   "metadata": {},
   "outputs": [],
   "source": [
    "class Apple():\n",
    "    \n",
    "    def __init__(self,name):\n",
    "        self.name = name\n",
    "    def information (self):\n",
    "        return self.name + \"70 calories\""
   ]
  },
  {
   "cell_type": "code",
   "execution_count": 8,
   "id": "482fa16d",
   "metadata": {},
   "outputs": [],
   "source": [
    "class Banana():\n",
    "    \n",
    "    def __init__(self,name):\n",
    "        self.name = name\n",
    "    def information(self):\n",
    "        return self.name + \"100 calories\""
   ]
  },
  {
   "cell_type": "code",
   "execution_count": 21,
   "id": "b3c5dd9d",
   "metadata": {},
   "outputs": [],
   "source": [
    "banana = Banana(\"banana \")"
   ]
  },
  {
   "cell_type": "code",
   "execution_count": 25,
   "id": "01496ce6",
   "metadata": {},
   "outputs": [],
   "source": [
    "apple=Apple(\"apple \")"
   ]
  },
  {
   "cell_type": "code",
   "execution_count": 26,
   "id": "dd0d8b9d",
   "metadata": {},
   "outputs": [
    {
     "data": {
      "text/plain": [
       "'banana 100 calories'"
      ]
     },
     "execution_count": 26,
     "metadata": {},
     "output_type": "execute_result"
    }
   ],
   "source": [
    "banana.information()"
   ]
  },
  {
   "cell_type": "code",
   "execution_count": 27,
   "id": "f094114c",
   "metadata": {},
   "outputs": [
    {
     "data": {
      "text/plain": [
       "'apple 70 calories'"
      ]
     },
     "execution_count": 27,
     "metadata": {},
     "output_type": "execute_result"
    }
   ],
   "source": [
    "apple.information()"
   ]
  },
  {
   "cell_type": "code",
   "execution_count": 28,
   "id": "ff3a4881",
   "metadata": {},
   "outputs": [],
   "source": [
    "fruit_list = [banana,apple]"
   ]
  },
  {
   "cell_type": "code",
   "execution_count": 29,
   "id": "f1c8283b",
   "metadata": {},
   "outputs": [
    {
     "name": "stdout",
     "output_type": "stream",
     "text": [
      "banana 100 calories\n",
      "apple 70 calories\n"
     ]
    }
   ],
   "source": [
    "for fruit in fruit_list:\n",
    "    print(fruit.information())"
   ]
  },
  {
   "cell_type": "code",
   "execution_count": 30,
   "id": "3a486195",
   "metadata": {},
   "outputs": [],
   "source": [
    "def get_info(fruit):\n",
    "    print(fruit.information())"
   ]
  },
  {
   "cell_type": "code",
   "execution_count": 31,
   "id": "9241b946",
   "metadata": {},
   "outputs": [
    {
     "name": "stdout",
     "output_type": "stream",
     "text": [
      "banana 100 calories\n"
     ]
    }
   ],
   "source": [
    "get_info(banana)"
   ]
  },
  {
   "cell_type": "code",
   "execution_count": 32,
   "id": "e88d55ed",
   "metadata": {},
   "outputs": [
    {
     "name": "stdout",
     "output_type": "stream",
     "text": [
      "apple 70 calories\n"
     ]
    }
   ],
   "source": [
    "get_info(apple)"
   ]
  },
  {
   "cell_type": "code",
   "execution_count": null,
   "id": "a7bc1405",
   "metadata": {},
   "outputs": [],
   "source": []
  }
 ],
 "metadata": {
  "kernelspec": {
   "display_name": "Python 3",
   "language": "python",
   "name": "python3"
  },
  "language_info": {
   "codemirror_mode": {
    "name": "ipython",
    "version": 3
   },
   "file_extension": ".py",
   "mimetype": "text/x-python",
   "name": "python",
   "nbconvert_exporter": "python",
   "pygments_lexer": "ipython3",
   "version": "3.8.8"
  }
 },
 "nbformat": 4,
 "nbformat_minor": 5
}
